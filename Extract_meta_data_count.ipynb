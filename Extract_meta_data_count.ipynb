{
 "cells": [
  {
   "cell_type": "markdown",
   "metadata": {},
   "source": [
    "### Analyzing MEPS-HC Data with SAS® 9.4M6 \n",
    "#### By Pradip K. Muhuri"
   ]
  },
  {
   "cell_type": "markdown",
   "metadata": {},
   "source": [
    "#####  Generate output on the number of observations and variables"
   ]
  },
  {
   "cell_type": "code",
   "execution_count": null,
   "metadata": {},
   "outputs": [],
   "source": [
    "options nocenter nonumber nodate;\n",
    "options formchar=\"|----|+|---+=|-/\\<>*\";\n",
    "proc sql;\n",
    "select nobs format=comma7.\n",
    "       ,nvar \n",
    "    from dictionary.tables\n",
    "    where libname = 'SASHELP' and memname = 'CLASS';\n",
    " quit;\n"
   ]
  },
  {
   "cell_type": "code",
   "execution_count": null,
   "metadata": {},
   "outputs": [],
   "source": [
    "options nocenter nonumber nodate nonotes nosource;\n",
    "ods html close;\n",
    "options formchar=\"|----|+|---+=|-/\\<>*\";\n",
    "* Create macro variables;\n",
    "proc sql noprint;\n",
    "select nobs, nvar \n",
    "     into :nobs_m, :nvar_m\n",
    "    from dictionary.tables\n",
    "    where libname = 'SASHELP' and memname = 'HEART';\n",
    " quit;\n",
    " %put Number of observations: %left(%qsysfunc(putn(&nobs_m, comma7.)));\n",
    " %put Number of variables: %left(%qsysfunc(putn(&nvar_m, comma7.)));\n"
   ]
  },
  {
   "cell_type": "code",
   "execution_count": null,
   "metadata": {},
   "outputs": [],
   "source": [
    "options nonotes nosource nodate nonumber;\n",
    "ods html close;\n",
    "data _NULL_;\n",
    "set SASHELP.HEART;\n",
    "array char[*} $ _CHAR_;\n",
    "array num[*} _NUMERIC_;\n",
    "nCharVar  = dim(char);\n",
    "nNumerVar = dim(num);\n",
    "put \"SASHELP HEART: \" nCharVar= nNumerVar= ;\n",
    "stop;   /* stop processing after first observation */\n",
    "run;"
   ]
  },
  {
   "cell_type": "code",
   "execution_count": null,
   "metadata": {},
   "outputs": [],
   "source": [
    "%showlog"
   ]
  },
  {
   "cell_type": "code",
   "execution_count": null,
   "metadata": {},
   "outputs": [],
   "source": [
    "* Generate a list of all variables and their attributes in the data set;\n",
    "options nocenter nonumber nodate;\n",
    "options formchar=\"|----|+|---+=|-/\\<>*\";\n",
    "proc contents data=sashelp.class varnum;\n",
    "ods select position;\n",
    "run;\n"
   ]
  },
  {
   "cell_type": "code",
   "execution_count": null,
   "metadata": {},
   "outputs": [],
   "source": [
    "* Generate a list of all variables and their attributes in the data set;\n",
    "options nocenter nonumber nodate;\n",
    "options formchar=\"|----|+|---+=|-/\\<>*\";\n",
    "proc contents data=sashelp.class p;\n",
    "ods select variables;\n",
    "run;\n"
   ]
  },
  {
   "cell_type": "code",
   "execution_count": null,
   "metadata": {},
   "outputs": [],
   "source": [
    "options nocenter nonumber nodate;\n",
    "options formchar=\"|----|+|---+=|-/\\<>*\";\n",
    "data mytable (keep=name type length label);\n",
    "   set sashelp.vcolumn;\n",
    "   where libname='SASHELP' and memname='CLASS';\n",
    "run;\n",
    "proc print data=mytable noobs;\n",
    "run;"
   ]
  },
  {
   "cell_type": "code",
   "execution_count": null,
   "metadata": {},
   "outputs": [],
   "source": [
    "options nocenter nonumber nodate;\n",
    "options formchar=\"|----|+|---+=|-/\\<>*\";\n",
    "proc sql outobs=10;\n",
    "     select name, type, length, label from sashelp.vcolumn\n",
    "      where libname='SASHELP' and memname='HEART';\n",
    "quit;"
   ]
  },
  {
   "cell_type": "code",
   "execution_count": null,
   "metadata": {},
   "outputs": [],
   "source": [
    "* Create a macro variable that holds a horizontal list of variables of interest;\n",
    "options nocenter nonumber nodate nosource;\n",
    "proc sql noprint;\n",
    "select name\n",
    "  into :varlist separated by ' ' \n",
    " from dictionary.columns\n",
    " where libname= \"PUFMEPS\" and memname = \"H201\"\n",
    " and (name like \"INSCOP%\" or name like \"KEY%\" or name like \"PERWT%\");\n",
    "quit;\n",
    "%put &=varlist;"
   ]
  },
  {
   "cell_type": "code",
   "execution_count": null,
   "metadata": {},
   "outputs": [],
   "source": [
    "options nocenter nonumber nodate nosource;\n",
    "libname pufmeps  'C:\\Data' access=readonly;\n",
    "* Print the meta data for the variables of interest;\n",
    "proc sql ;\n",
    "select name, type, label\n",
    "  from dictionary.columns\n",
    " where libname= \"PUFMEPS\" and memname = \"H201\"\n",
    " and (name like \"INSCOP%\" or name like \"KEY%\" or name like \"PERWT%\");\n",
    "quit;\n"
   ]
  },
  {
   "cell_type": "code",
   "execution_count": null,
   "metadata": {},
   "outputs": [],
   "source": [
    "* Generate a listing of MEPS data files dynamically;\n",
    "ods excel file = 'C:\\Data\\List_MEPS_Datasets.xlsx'\n",
    "   options (embedded_titles='on'  sheet_name='List'); \n",
    "title \"Listing of MEPS Data Files (SAS Data Sets) from  C:\\Data\";\n",
    "libname pufmeps  'C:\\Data' access=readonly;\n",
    "proc sql number;\n",
    "  select memname \n",
    "         ,nobs format=comma10.\n",
    "         ,nvar format=comma7.\n",
    "         ,DATEPART(crdate) format date9. as Date_created label='Creation Date'\n",
    "         ,TIMEPART(crdate) format timeampm. as Time_created label='Creation Time'\n",
    "     from dictionary.tables\n",
    "       where libname = 'PUFMEPS' \n",
    "        and memtype = 'DATA'\n",
    "   order by Date_created desc;\n",
    "  quit;\n",
    "ods excel close;\n",
    "ods listing;"
   ]
  }
 ],
 "metadata": {
  "kernelspec": {
   "display_name": "SAS",
   "language": "sas",
   "name": "sas"
  },
  "language_info": {
   "codemirror_mode": "sas",
   "file_extension": ".sas",
   "mimetype": "text/x-sas",
   "name": "sas"
  }
 },
 "nbformat": 4,
 "nbformat_minor": 4
}
