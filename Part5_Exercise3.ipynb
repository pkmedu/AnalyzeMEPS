{
 "cells": [
  {
   "cell_type": "markdown",
   "metadata": {},
   "source": [
    "### Analyzing MEPS-HC Data with SAS® 9.4 M6 \n",
    "#### By Pradip K. Muhuri, PhD"
   ]
  },
  {
   "cell_type": "markdown",
   "metadata": {},
   "source": [
    "## Exercise 3"
   ]
  },
  {
   "cell_type": "markdown",
   "metadata": {},
   "source": [
    "### Objective\n",
    "\n",
    "* Estimate mean out-of-pocket health care expenses for individuals who were aged 26-30 years with high income and uninsured for the whole year\n",
    "\n",
    "### Data and Analysis\n",
    "* Combine data from 2016 and 2017 MEPS Full-Year Consolidated Files \n",
    "* Run PROC FREQ and PROC MEANS for data checks\n",
    "* Run PROC SURVEYMEANS for complex survey estimates\n"
   ]
  },
  {
   "cell_type": "markdown",
   "metadata": {},
   "source": [
    "### Concatenate two full-year data files into one SAS data set\n",
    "* KEEP only needed variables when loading the original SAS data sets\n",
    "* RENAME year-specific variables as variable with year suffix \n",
    "        prior to concatenating those files\n",
    "* Create new variables including the subpopulation variable"
   ]
  },
  {
   "cell_type": "markdown",
   "metadata": {},
   "source": [
    "#### Code explanation for the next cell\n",
    "* With no statistic-keywords specifiedin the PROC SURVEYMEANS statement, it computes the NOBS, MEANS, STDERR, and CLM statistics by default.\n",
    "\n",
    "* ODS GRAPHICS OFF;  - suppresses the graphics \n",
    "* ODS EXCLUDE STATISTICS; - tells SAS not to generate output for the overall population \n",
    "\n",
    "* PROC SURVEYMEANS estimates mean out-of-pocket health care expenses for individuals who were aged 26-30 years with high income and uninsured for the whole year\n"
   ]
  }
 ],
 "metadata": {
  "kernelspec": {
   "display_name": "SAS",
   "language": "sas",
   "name": "sas"
  },
  "language_info": {
   "codemirror_mode": "sas",
   "file_extension": ".sas",
   "mimetype": "text/x-sas",
   "name": "sas"
  }
 },
 "nbformat": 4,
 "nbformat_minor": 4
}
