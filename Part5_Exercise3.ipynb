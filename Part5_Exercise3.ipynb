{
 "cells": [
  {
   "cell_type": "markdown",
   "metadata": {},
   "source": [
    "### Analyzing MEPS-HC Data with SAS® 9.4 M6 \n",
    "#### By Pradip K. Muhuri, PhD"
   ]
  },
  {
   "cell_type": "markdown",
   "metadata": {},
   "source": [
    "## Exercise 3"
   ]
  },
  {
   "cell_type": "markdown",
   "metadata": {},
   "source": [
    "### Objective\n",
    "\n",
    "* Estimate mean out-of-pocket health care expenses for individuals who were aged 26-30 years with high income and uninsured for the whole year\n",
    "\n",
    "### Data and Analysis\n",
    "* Combine data from 2016 and 2017 MEPS Full-Year Consolidated Files \n",
    "* Run PROC FREQ and PROC MEANS for data checks\n",
    "* Run PROC SURVEYMEANS for complex survey estimates\n"
   ]
  },
  {
   "cell_type": "markdown",
   "metadata": {},
   "source": [
    "### Concatenate two full-year data files into one SAS data set\n",
    "* KEEP only needed variables when loading the original SAS data sets\n",
    "* RENAME year-specific variables as variable with year suffix \n",
    "        prior to concatenating those files\n",
    "* Create new variables including the subpopulation variable"
   ]
  },
  {
   "cell_type": "code",
   "execution_count": null,
   "metadata": {},
   "outputs": [],
   "source": [
    "options nodate nonumber nosource;\n",
    "ods html close;\n",
    "LIBNAME CDATA 'C:\\DATA';\n",
    "DATA POOL;\n",
    "    SET CDATA.H192 \n",
    "       (in=a KEEP= DUPERSID INSCOV16 PERWT16F VARSTR VARPSU POVCAT16 AGELAST TOTSLF16\n",
    "        RENAME=(INSCOV16=INSCOV PERWT16F=PERWT POVCAT16=POVCAT TOTSLF16=TOTSLF))\n",
    "        \n",
    "       CDATA.H201 \n",
    "        (in=b KEEP= DUPERSID INSCOV17 PERWT17F VARSTR VARPSU POVCAT17 AGELAST TOTSLF17\n",
    "        RENAME=(INSCOV17=INSCOV PERWT17F=PERWT POVCAT17=POVCAT TOTSLF17=TOTSLF));\n",
    "                \n",
    "     /* Create a YEAR Variable for checking data*/\n",
    "     if a=1 then year=2016;\n",
    "     else if b=1 then year=2017;\n",
    "\n",
    "     POOLWT = PERWT/2 ;  /* Pooled survey weight */\n",
    "\n",
    "     /*Create a dichotomous SUBPOP variable \n",
    "     (POPULATION WITH AGE=26-30, UNINSURED WHOLE YEAR, AND HIGH INCOME)\n",
    "     */\n",
    "     IF 26 LE AGELAST LE 30 AND POVCAT=5 AND INSCOV=3 THEN SUBPOP=1;\n",
    "     ELSE SUBPOP=2;    \n",
    " run;\n"
   ]
  },
  {
   "cell_type": "markdown",
   "metadata": {},
   "source": [
    "### Code snippet for PROC FORMAT"
   ]
  },
  {
   "cell_type": "code",
   "execution_count": null,
   "metadata": {},
   "outputs": [],
   "source": [
    "options nocenter nodate nonumber nosource;\n",
    "PROC FORMAT;\n",
    "VALUE POVCAT \n",
    "    1 = '1 POOR/NEGATIVE'\n",
    "    2 = '2 NEAR POOR'\n",
    "    3 = '3 LOW INCOME'\n",
    "    4 = '4 MIDDLE INCOME'\n",
    "    5 = '5 HIGH INCOME'   ;\n",
    "\n",
    "VALUE INSF\n",
    "    1 = '1 ANY PRIVATE'\n",
    "    2 = '2 PUBLIC ONLY'\n",
    "    3 = '3 UNINSURED';\n",
    "\n",
    "   VALUE  SUBPOP (max= 50)\n",
    "    1 = 'AGE 26-30, UNINSURED WHOLE YEAR, AND HIGH INCOME'\n",
    "    2 ='OTHERS';\n",
    "run;\n"
   ]
  },
  {
   "cell_type": "markdown",
   "metadata": {},
   "source": [
    "#### Use PROC FREQ and PROC MEANS for data checks"
   ]
  },
  {
   "cell_type": "code",
   "execution_count": null,
   "metadata": {},
   "outputs": [],
   "source": [
    "TITLE \"COMBINED MEPS DATA FROM 2016 and 2017 Consolidated Files\";\n",
    "PROC FREQ DATA=WORK.POOL;\n",
    "    TABLES YEAR*SUBPOP*POVCAT*INSCOV /LIST MISSING nopercent ;\n",
    "           FORMAT SUBPOP SUBPOP. POVCAT POVCAT. INSCOV INSF.;\n",
    "RUN;\n",
    "PROC MEANS DATA=POOL;\n",
    "RUN;"
   ]
  },
  {
   "cell_type": "markdown",
   "metadata": {},
   "source": [
    "#### Code explanation for the next cell\n",
    "* With no statistic-keywords specifiedin the PROC SURVEYMEANS statement, it computes the NOBS, MEANS, STDERR, and CLM statistics by default.\n",
    "\n",
    "* ODS GRAPHICS OFF;  - suppresses the graphics \n",
    "* ODS EXCLUDE STATISTICS; - tells SAS not to generate output for the overall population \n",
    "\n",
    "* PROC SURVEYMEANS estimates mean out-of-pocket health care expenses for individuals who were aged 26-30 years with high income and uninsured for the whole year\n"
   ]
  },
  {
   "cell_type": "code",
   "execution_count": null,
   "metadata": {},
   "outputs": [],
   "source": [
    "TITLE2 'WEIGHTED ESTIMATE FOR OUT-OF-POCKET EXPENSES FOR PERSONS AGES 26-30, UNINSURED WHOLE YEAR, AND HIGH INCOME';\n",
    "ODS GRAPHICS OFF;\n",
    "ODS EXCLUDE STATISTICS; \n",
    "PROC SURVEYMEANS DATA=WORK.POOL; \n",
    "    VAR  TOTSLF;\n",
    "    STRATUM VARSTR ;\n",
    "    CLUSTER VARPSU ;\n",
    "    WEIGHT  POOLWT;\n",
    "  DOMAIN  SUBPOP(\"AGE 26-30, UNINSURED WHOLE YEAR, AND HIGH INCOME\");\n",
    "    FORMAT SUBPOP SUBPOP.;\n",
    "RUN;"
   ]
  }
 ],
 "metadata": {
  "kernelspec": {
   "display_name": "SAS",
   "language": "sas",
   "name": "sas"
  },
  "language_info": {
   "codemirror_mode": "sas",
   "file_extension": ".sas",
   "mimetype": "text/x-sas",
   "name": "sas"
  }
 },
 "nbformat": 4,
 "nbformat_minor": 4
}
