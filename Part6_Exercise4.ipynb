{
 "cells": [
  {
   "cell_type": "markdown",
   "metadata": {},
   "source": [
    "### Analyzing MEPS-HC Data with SAS® 9.4M6 \n",
    "#### By Pradip K. Muhuri, PhD"
   ]
  },
  {
   "cell_type": "markdown",
   "metadata": {},
   "source": [
    "## Exercise 4"
   ]
  },
  {
   "cell_type": "markdown",
   "metadata": {},
   "source": [
    "### Objective\n",
    "\n",
    "* Estimate the percentage distribution of insurance status (in the second year) of  individuals who were aged 26-30 with high income and uninsured for the whole (first) year \n",
    "\n",
    "### Data and Analysis\n",
    "    * Combine data from MEPS Longitudinal Files (Panels 19, 20, and 21)\n",
    "    * Run PROC FREQ and PROC MEANS for data checks\n",
    "    * Run PROC SURVEYMEANS for complex survey estimates\n"
   ]
  },
  {
   "cell_type": "markdown",
   "metadata": {},
   "source": [
    "### MEPS Longitudinal File (Panel 21 as an Example)  - Exercise  4\n",
    "\n",
    "* This file is a two-year longitudinal file derived from the respondents to the MEPS Panel 21 sample. The persons on this data set represent those who were in the MEPS population (U.S. civilian noninstitutionalized) for all or part of the 2016-2017 period. \n",
    "\n",
    "* The file contains a longitudinal weight variable (LONGWT) and all variables from the 2016 and 2017 full-year consolidated data files (HC-192 and HC-201, respectively). \n",
    "\n",
    "[Read here more about variables in Panel 21 Longitudinal File.](https://meps.ahrq.gov/mepsweb/data_stats/download_data_files_detail.jsp?cboPufNumber=HC-202)\n",
    " \n",
    "* The weight variable (LONGWT), when applied to the persons who participated in both 2016 and 2017, will enable the user to make national estimates of person-level changes in selected variables (e.g., health insurance, health status, utilization and expenditures).\n",
    "\n"
   ]
  },
  {
   "cell_type": "markdown",
   "metadata": {},
   "source": [
    "### Concatenate Panels 19, 20, and 21 data sets into one SAS data set\n",
    "* KEEP only needed variables when loading the original SAS data set\n",
    "* Create new variables including the subpopulation variable"
   ]
  },
  {
   "cell_type": "markdown",
   "metadata": {},
   "source": [
    "#### Code explanation for the next cell\n",
    "* With no statistic-keywords specifiedin the PROC SURVEYMEANS statement, it computes the NOBS, MEANS, STDERR, and CLM statistics by default.\n",
    "\n",
    "* ODS GRAPHICS OFF;  - suppresses the graphics \n",
    "* ODS EXCLUDE STATISTICS; - tells SAS not to generate output for the overall population \n",
    "\n",
    "* PROC SURVEYMEANS estimates mean out-of-pocket health care expenses for individuals who were aged 26-30 years with high income and uninsured for the whole year\n",
    "\n",
    "* In order for PROC SURVEYMEANS to generate percentage distribution of INSCOV2, we include the INSCOVY2 variable in both VAR and CLASS statements.  \n",
    "\n"
   ]
  }
 ],
 "metadata": {
  "kernelspec": {
   "display_name": "SAS",
   "language": "sas",
   "name": "sas"
  },
  "language_info": {
   "codemirror_mode": "sas",
   "file_extension": ".sas",
   "mimetype": "text/x-sas",
   "name": "sas"
  }
 },
 "nbformat": 4,
 "nbformat_minor": 4
}
