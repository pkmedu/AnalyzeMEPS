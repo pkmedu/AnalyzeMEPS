{
 "cells": [
  {
   "cell_type": "markdown",
   "metadata": {},
   "source": [
    "### Analyzing MEPS-HC Data with SAS® 9.4M6 \n",
    "#### By Pradip K. Muhuri, PhD"
   ]
  },
  {
   "cell_type": "markdown",
   "metadata": {},
   "source": [
    "## Exercise 4"
   ]
  },
  {
   "cell_type": "markdown",
   "metadata": {},
   "source": [
    "### Objective\n",
    "\n",
    "* Estimate the percentage distribution of insurance status (in the second year) of  individuals who were aged 26-30 with high income and uninsured for the whole (first) year \n",
    "\n",
    "### Data and Analysis\n",
    "    * Combine data from MEPS Longitudinal Files (Panels 19, 20, and 21)\n",
    "    * Run PROC FREQ and PROC MEANS for data checks\n",
    "    * Run PROC SURVEYMEANS for complex survey estimates\n"
   ]
  },
  {
   "cell_type": "markdown",
   "metadata": {},
   "source": [
    "### MEPS Longitudinal File (Panel 21 as an Example)  - Exercise  4\n",
    "\n",
    "* This file is a two-year longitudinal file derived from the respondents to the MEPS Panel 21 sample. The persons on this data set represent those who were in the MEPS population (U.S. civilian noninstitutionalized) for all or part of the 2016-2017 period. \n",
    "\n",
    "* The file contains a longitudinal weight variable (LONGWT) and all variables from the 2016 and 2017 full-year consolidated data files (HC-192 and HC-201, respectively). \n",
    "\n",
    "[Read here more about variables in Panel 21 Longitudinal File.](https://meps.ahrq.gov/mepsweb/data_stats/download_data_files_detail.jsp?cboPufNumber=HC-202)\n",
    " \n",
    "* The weight variable (LONGWT), when applied to the persons who participated in both 2016 and 2017, will enable the user to make national estimates of person-level changes in selected variables (e.g., health insurance, health status, utilization and expenditures).\n",
    "\n"
   ]
  },
  {
   "cell_type": "markdown",
   "metadata": {},
   "source": [
    "### Concatenate Panels 19, 20, and 21 data sets into one SAS data set\n",
    "* KEEP only needed variables when loading the original SAS data set\n",
    "* Create new variables including the subpopulation variable"
   ]
  },
  {
   "cell_type": "code",
   "execution_count": null,
   "metadata": {},
   "outputs": [],
   "source": [
    "options nodate nonumber nosource;\n",
    "LIBNAME CDATA 'C:\\DATA';\n",
    "DATA WORK.POOL;\n",
    "       SET CDATA.H183 (KEEP=DUPERSID INSCOVY1 INSCOVY2 LONGWT VARSTR VARPSU POVCATY1 AGEY1X PANEL)\n",
    "           CDATA.H193 (KEEP=DUPERSID INSCOVY1 INSCOVY2 LONGWT VARSTR VARPSU POVCATY1 AGEY1X PANEL)\n",
    "           CDATA.H202 (KEEP=DUPERSID INSCOVY1 INSCOVY2 LONGWT VARSTR VARPSU POVCATY1 AGEY1X PANEL);\n",
    "    \n",
    "    POOLWT = LONGWT/3 ; /* Pooled survey weight */\n",
    "\n",
    "     /*Create a dichotomous SUBPOP variable \n",
    "     (POPULATION WITH AGE=26-30, UNINSURED WHOLE FIRST YEAR, AND HIGH INCOME)\n",
    "     */\n",
    "   \n",
    "     IF INSCOVY1=3 AND 26 LE AGEY1X LE 30 AND POVCATY1=5 THEN SUBPOP=1;\n",
    "     ELSE SUBPOP=2;\n",
    "  RUN;"
   ]
  },
  {
   "cell_type": "markdown",
   "metadata": {},
   "source": [
    "### Code snippet for PROC FORMAT"
   ]
  },
  {
   "cell_type": "code",
   "execution_count": null,
   "metadata": {
    "scrolled": true
   },
   "outputs": [],
   "source": [
    "options nodate nonumber nosource;\n",
    "PROC FORMAT;\n",
    " VALUE POVCAT \n",
    "    1 = '1 POOR/NEGATIVE'\n",
    "    2 = '2 NEAR POOR'\n",
    "    3 = '3 LOW INCOME'\n",
    "    4 = '4 MIDDLE INCOME'\n",
    "    5 = '5 HIGH INCOME' ;\n",
    "\n",
    " VALUE INSF\n",
    "    -1= '-1 INAPPLICABLE'\n",
    "     1 = '1 ANY PRIVATE'\n",
    "     2 = '2 PUBLIC ONLY'\n",
    "     3 = '3 UNINSURED';  \n",
    "\n",
    "VALUE  SUBPOP (max= 50)\n",
    "    1 = 'AGE 26-30, UNINSURED WHOLE YEAR, AND HIGH INCOME'\n",
    "    2 ='OTHERS';\n",
    "run;\n"
   ]
  },
  {
   "cell_type": "markdown",
   "metadata": {},
   "source": [
    "Use PROC FREQ for data checks"
   ]
  },
  {
   "cell_type": "code",
   "execution_count": null,
   "metadata": {},
   "outputs": [],
   "source": [
    "TITLE \"COMBINED MEPS DATA FROM PANELS 19, 20, and 21\";\n",
    "options nolabel;\n",
    "PROC FREQ DATA=POOL ;\n",
    "tables subpop*INSCOVY2 /lsit missing;\n",
    "FORMAT INSCOVY2 INSF. SUBPOP SUBPOP.;\n",
    "RUN;\n"
   ]
  },
  {
   "cell_type": "markdown",
   "metadata": {},
   "source": [
    "#### Code explanation for the next cell\n",
    "* With no statistic-keywords specifiedin the PROC SURVEYMEANS statement, it computes the NOBS, MEANS, STDERR, and CLM statistics by default.\n",
    "\n",
    "* ODS GRAPHICS OFF;  - suppresses the graphics \n",
    "* ODS EXCLUDE STATISTICS; - tells SAS not to generate output for the overall population \n",
    "\n",
    "* PROC SURVEYMEANS estimates mean out-of-pocket health care expenses for individuals who were aged 26-30 years with high income and uninsured for the whole year\n",
    "\n",
    "* In order for PROC SURVEYMEANS to generate percentage distribution of INSCOV2, we include the INSCOVY2 variable in both VAR and CLASS statements.  \n",
    "\n"
   ]
  },
  {
   "cell_type": "code",
   "execution_count": null,
   "metadata": {},
   "outputs": [],
   "source": [
    "TITLE 'INSURANCE STATUS IN THE SECOND YEAR FOR THOSE W/ AGE=26-30, UNINSURED WHOLE YEAR, AND HIGH INCOME IN THE FIRST YEAR';\n",
    "TITLE2 'AVERAGE ESTIMATES OVER 3 PANELS (19, 20, AND 21)';\n",
    "ODS GRAPHICS OFF;\n",
    "ODS EXCLUDE STATISTICS;\n",
    "PROC SURVEYMEANS DATA=POOL; \n",
    "    VAR  INSCOVY2;\n",
    "    STRATUM VARSTR ;\n",
    "    CLUSTER VARPSU ;\n",
    "    WEIGHT  POOLWT;\n",
    "    CLASS INSCOVY2;\n",
    "    DOMAIN  SUBPOP(\"AGE 26-30, UNINSURED WHOLE YEAR, AND HIGH INCOME\");\n",
    "    FORMAT INSCOVY2 INSF. SUBPOP SUBPOP.;\n",
    "RUN;"
   ]
  }
 ],
 "metadata": {
  "kernelspec": {
   "display_name": "SAS",
   "language": "sas",
   "name": "sas"
  },
  "language_info": {
   "codemirror_mode": "sas",
   "file_extension": ".sas",
   "mimetype": "text/x-sas",
   "name": "sas"
  }
 },
 "nbformat": 4,
 "nbformat_minor": 4
}
