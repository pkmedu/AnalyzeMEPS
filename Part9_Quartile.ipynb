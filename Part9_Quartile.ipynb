{
 "cells": [
  {
   "cell_type": "markdown",
   "metadata": {},
   "source": [
    "### Analyzing MEPS-HC Data with SAS® 9.4 M6 \n",
    "#### By Pradip K. Muhuri"
   ]
  },
  {
   "cell_type": "markdown",
   "metadata": {},
   "source": [
    "#### Specify statistics of interest on PROC SURVEYMEANS statement"
   ]
  },
  {
   "cell_type": "markdown",
   "metadata": {},
   "source": [
    "###### Create format for a DOMAIN varaiable"
   ]
  },
  {
   "cell_type": "code",
   "execution_count": null,
   "metadata": {},
   "outputs": [],
   "source": [
    "options nocenter nodate nonumber nosource;\n",
    "ods html close;\n",
    "Proc format;\n",
    "value povcat17_fmt \n",
    "    1 = 'Poor'\n",
    "    2,3 = 'Low Income'\n",
    "    4,5 = 'Middle-High Income';\n",
    "run;"
   ]
  },
  {
   "cell_type": "code",
   "execution_count": null,
   "metadata": {},
   "outputs": [],
   "source": [
    "ods trace on;\n",
    "ods graphics off;\n",
    "*ods  exclude all; /* suspend all open destinations */\n",
    "libname CDATA \"C:\\DATA\";\n",
    "PROC SURVEYMEANS DATA=CDATA.h201 nobs mean stderr q1 median q3;\n",
    "    VAR totexp17;\n",
    "    STRATUM VARSTR;\n",
    "    CLUSTER VARPSU;\n",
    "    WEIGHT PERWT17F;\n",
    "    DOMAIN POVCAT17;\n",
    "    FORMAT POVCAT17 povcat17_fmt.;\n",
    "run;\n",
    "ods trace off;\n",
    "*ods exclude none;  /* resume output to open destinations */"
   ]
  },
  {
   "cell_type": "code",
   "execution_count": null,
   "metadata": {},
   "outputs": [],
   "source": [
    "%showLog"
   ]
  },
  {
   "cell_type": "markdown",
   "metadata": {},
   "source": [
    "##### PROC SURVEYMEANS outputs a default set of statistics.  When you specify on or more statistics (i.e., keywords), you do not get additional results that would have been in the default output. \n",
    "\n"
   ]
  },
  {
   "cell_type": "code",
   "execution_count": null,
   "metadata": {},
   "outputs": [],
   "source": [
    "options nocenter nodate nonumber;\n",
    "libname CDATA \"C:\\DATA\";\n",
    "ods graphics off; \n",
    "TITLE;\n",
    "PROC SURVEYMEANS DATA=CDATA.h201 nobs mean stderr q1 median q3;\n",
    "    VAR totexp17;\n",
    "    STRATUM VARSTR;\n",
    "    CLUSTER VARPSU;\n",
    "    WEIGHT PERWT17F;\n",
    "    DOMAIN POVCAT17;\n",
    "    FORMAT POVCAT17 povcat17_fmt.;\n",
    "  RUN;"
   ]
  }
 ],
 "metadata": {
  "kernelspec": {
   "display_name": "SAS",
   "language": "sas",
   "name": "sas"
  },
  "language_info": {
   "codemirror_mode": "sas",
   "file_extension": ".sas",
   "mimetype": "text/x-sas",
   "name": "sas"
  }
 },
 "nbformat": 4,
 "nbformat_minor": 4
}
