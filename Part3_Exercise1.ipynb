{
 "cells": [
  {
   "cell_type": "markdown",
   "metadata": {},
   "source": [
    "### Analyzing MEPS-HC Data with SAS® 9.4 M6 \n",
    "#### By Pradip K. Muhuri"
   ]
  },
  {
   "cell_type": "markdown",
   "metadata": {},
   "source": [
    "## Exercise 1"
   ]
  },
  {
   "cell_type": "markdown",
   "metadata": {},
   "source": [
    "#### Objective\n",
    "* Generate the following estimates\n",
    "     * mean health care expenses per person\n",
    "     * mean health expenses per person with an expense ( overall, and by age group)\n",
    "\n",
    "#### Data and Analysis\n",
    "     * Use 2017 MEPS Full-Year Consolidated File\n",
    "     * Run PROC FREQ for data checks\n",
    "     * Run PROC SURVEYMEANS for complex survey estimates"
   ]
  },
  {
   "cell_type": "markdown",
   "metadata": {},
   "source": [
    "### MEPS Full-Year Consolidated File, 2017\n",
    "\n",
    "This is a person-level data which includes annual variables such as \n",
    "* total annual healthcare expenditures by type of care\n",
    "* payment source, and type of provider seen\n",
    "* annual and monthly health insurance type indicators\n",
    "* health conditions, healthcare access and utilization\n",
    "* quality of care, patient satisfaction, and demographics\n",
    "\n",
    "[Read here more anout the 2017 Full-Year Consolidated File.](https://meps.ahrq.gov/mepsweb/data_stats/download_data_files_detail.jsp?cboPufNumber=HC-201)\n",
    "\n",
    "This file contains a total of 31,880 persons who were part of one of the two MEPS panels for whom data were collected in that year:\n",
    "\n",
    "* 2017 portion of Round 3, Rounds 4 and 5 for Panel 21\n",
    "* Rounds 1, 2 and the 2017 portion of Round 3 for Panel 22\n"
   ]
  },
  {
   "cell_type": "markdown",
   "metadata": {},
   "source": [
    "## Why Use PROC SURVEYMEANS\n",
    "\n",
    "The MEPS-HC uses  sample design features including stratification, clustering, and oversampling. [Due to complexities in the MEPS-HC  sample designs](https://meps.ahrq.gov/data_files/publications/mr33/mr33.shtml), we must specify the survey weight and design characteristics in PROC SURVEYMEANS step when estimating the parameter for the U.S. civilian noninstitutionalized population.\n",
    "\n",
    "[See SAS/STAT® 15.1 User’s Guide Introduction to Survey Sampling and Analysis Procedures](https://support.sas.com/documentation/onlinedoc/stat/151/introsamp.pdf)\n",
    "```\n",
    "PROC SURVEYMEANS DATA=WORK.PUF201;\n",
    "   VAR TOTEXP17;\n",
    "   STRATUM VARSTR;\n",
    "   CLUSTER VARPSU;\n",
    "   WEIGHT PERWT17F;\n",
    "RUN;\n",
    "\n",
    "(In the above example code ...)\n",
    "The VAR statement identifies the variable to be analyzed.\n",
    "The STRATUM statement lists the variable that form the strata.\n",
    "The CLUSTER statement specifies the cluster identification variable.\n",
    "The WEIGHT statement names the sampling weight variable.\n",
    "\n",
    "```    \n",
    "Notes: If you do not specify statistic-keywords in the PROC SURVEYMEANS statement, it computes the NOBS, MEANS, STDERR, and CLM statistics by default. If you specify the statistic-keywords of your interest including SUM (i.e., estimated population total when the appropriate sampling weights are used) in that statement, the procedure computes STD by default.\n"
   ]
  },
  {
   "cell_type": "markdown",
   "metadata": {},
   "source": [
    "The following SAS program (split into four separate code cells) generates the following estimates on national health care expenses for the civilian noninstitutionalized population."
   ]
  },
  {
   "cell_type": "markdown",
   "metadata": {},
   "source": [
    "#### Code explanation for the DOMAIN statement\n",
    "##### TOTEXP17_X('Some Expense')*AGELAST  in the code cell below indicates that only the results associated with TOTEXP17_X='Some Expense' (subpopulation) for each category of AGECAT are of interest here."
   ]
  },
  {
   "cell_type": "code",
   "execution_count": null,
   "metadata": {},
   "outputs": [],
   "source": []
  }
 ],
 "metadata": {
  "kernelspec": {
   "display_name": "SAS",
   "language": "sas",
   "name": "sas"
  },
  "language_info": {
   "codemirror_mode": "sas",
   "file_extension": ".sas",
   "mimetype": "text/x-sas",
   "name": "sas"
  }
 },
 "nbformat": 4,
 "nbformat_minor": 4
}
