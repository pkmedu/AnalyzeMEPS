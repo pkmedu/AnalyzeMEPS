{
 "cells": [
  {
   "cell_type": "markdown",
   "metadata": {},
   "source": [
    "### Analyzing MEPS-HC Data with SAS® 9.4 M6 \n",
    "#### By Pradip K. Muhuri"
   ]
  },
  {
   "cell_type": "markdown",
   "metadata": {},
   "source": [
    "#### Comparing Domain Means"
   ]
  },
  {
   "cell_type": "code",
   "execution_count": null,
   "metadata": {},
   "outputs": [],
   "source": [
    "options nocenter nodate nonumber nosource;\n",
    "ods html close;\n",
    "Proc format;\n",
    "value povcat17_fmt \n",
    "    1 = 'Poor'\n",
    "    2,3 = 'Low Income'\n",
    "    4,5 = 'Middle-High Income';\n",
    "run;"
   ]
  },
  {
   "cell_type": "code",
   "execution_count": null,
   "metadata": {},
   "outputs": [],
   "source": [
    "options nocenter nodate nonumber;\n",
    "libname CDATA \"C:\\DATA\";\n",
    "ods graphics off; \n",
    "TITLE ;\n",
    "PROC SURVEYMEANS DATA=CDATA.h201 ;\n",
    "    VAR totexp17;\n",
    "    STRATUM VARSTR;\n",
    "    CLUSTER VARPSU;\n",
    "    WEIGHT PERWT17F;\n",
    "    DOMAIN POVCAT17 /diffmeans adjust=bon;\n",
    "    FORMAT POVCAT17 povcat17_fmt.;\n",
    "     \n",
    "  RUN;"
   ]
  }
 ],
 "metadata": {
  "kernelspec": {
   "display_name": "SAS",
   "language": "sas",
   "name": "sas"
  },
  "language_info": {
   "codemirror_mode": "sas",
   "file_extension": ".sas",
   "mimetype": "text/x-sas",
   "name": "sas"
  }
 },
 "nbformat": 4,
 "nbformat_minor": 4
}
