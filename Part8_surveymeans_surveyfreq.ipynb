{
 "cells": [
  {
   "cell_type": "markdown",
   "metadata": {},
   "source": [
    "### Analyzing MEPS-HC Data with SAS® 9.4 M6 \n",
    "#### By Pradip K. Muhuri, PhD"
   ]
  },
  {
   "cell_type": "markdown",
   "metadata": {},
   "source": [
    "#### PROC SURVEYMEANS (with CLASS statement) vs. PROC SURVEYFREQ"
   ]
  },
  {
   "cell_type": "code",
   "execution_count": null,
   "metadata": {},
   "outputs": [],
   "source": [
    "options nocenter nodate nonumber nosource;\n",
    "ods html close;\n",
    "Proc format;\n",
    "value povcat17_fmt \n",
    "    1 = 'Poor'\n",
    "    2,3 = 'Low Income'\n",
    "    4 = 'Middle Income'\n",
    "    5 = 'High Income';\n",
    "run;"
   ]
  },
  {
   "cell_type": "code",
   "execution_count": null,
   "metadata": {},
   "outputs": [],
   "source": [
    "options nocenter nodate nonumber nolabel;\n",
    "ods exclude summary;\n",
    "ods html close;\n",
    "libname CDATA \"C:\\DATA\";\n",
    "ods graphics off; /*Suppress the graphics */\n",
    "TITLE 'Estimating Proportions (PROC SURVEYMEANS)';\n",
    "PROC SURVEYMEANS DATA=CDATA.h201 q1 median q3 stderr ;\n",
    "    VAR totexp17;\n",
    "    STRATUM VARSTR;\n",
    "    CLUSTER VARPSU;\n",
    "    WEIGHT PERWT17F;\n",
    "    DOMAIN POVCAT17\n",
    "    FORMAT POVCAT17 povcat17_fmt.;\n",
    "    ods output domain=domain_stats\n",
    "               domainquantiles=totexp_dq;\n",
    "    RUN;"
   ]
  },
  {
   "cell_type": "code",
   "execution_count": null,
   "metadata": {},
   "outputs": [],
   "source": [
    "options nocenter nodate nonumber;\n",
    "ods html close;\n",
    "libname CDATA \"C:\\DATA\";\n",
    "ods graphics off; \n",
    "TITLE 'Estimating Percentages (PROC SURVEYFREQ)';\n",
    "PROC SURVEYFREQ DATA=CDATA.h201;\n",
    "    TABLES POVCAT17;\n",
    "    STRATUM VARSTR;\n",
    "    CLUSTER VARPSU;\n",
    "    WEIGHT PERWT17F;\n",
    "    FORMAT POVCAT17 povcat17_fmt.;\n",
    "RUN;"
   ]
  },
  {
   "cell_type": "code",
   "execution_count": null,
   "metadata": {},
   "outputs": [],
   "source": []
  }
 ],
 "metadata": {
  "kernelspec": {
   "display_name": "SAS",
   "language": "sas",
   "name": "sas"
  },
  "language_info": {
   "codemirror_mode": "sas",
   "file_extension": ".sas",
   "mimetype": "text/x-sas",
   "name": "sas"
  }
 },
 "nbformat": 4,
 "nbformat_minor": 4
}
