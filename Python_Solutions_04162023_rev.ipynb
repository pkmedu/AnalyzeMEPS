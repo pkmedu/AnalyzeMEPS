{
 "cells": [
  {
   "cell_type": "markdown",
   "id": "ec75be19-9e9e-453d-ba79-d623e20e4f04",
   "metadata": {},
   "source": [
    "The program uses the functions updated by Charles Han on 3/15/2023"
   ]
  },
  {
   "cell_type": "code",
   "execution_count": 1,
   "id": "76b71901-f9f2-4328-889e-63d61fdb0a60",
   "metadata": {},
   "outputs": [],
   "source": [
    "# Step 1: Importing libraries\n",
    "\n",
    "import requests\n",
    "from bs4 import BeautifulSoup, re, Comment\n"
   ]
  },
  {
   "cell_type": "code",
   "execution_count": 2,
   "id": "60e1725c-13b2-456c-8f68-59db2795c783",
   "metadata": {},
   "outputs": [],
   "source": [
    "# Step 2: Creating functions\n",
    "\n",
    "# find all options match the start and end string\n",
    "def extractOptions(inputData):\n",
    "    regex = r'<option value=\\\"All\\\">All data files</option>(.*?)</select>'\n",
    "    result = re.findall(regex, inputData, flags=re.S)\n",
    "    if len(result) > 0:\n",
    "        return result[0]\n",
    "\n",
    "# find the actual data from each option\n",
    "def extractData(inputData):\n",
    "    regex = r\"<option value=[^>]*>(.*?)<\\/option>\"\n",
    "    result =  re.findall(regex, inputData, flags=re.S)\n",
    "    if len(result) > 0:\n",
    "        return result[0]\n",
    "    return ''\n"
   ]
  },
  {
   "cell_type": "code",
   "execution_count": 3,
   "id": "e1100a19-5c6b-4ae3-b5dc-a09e05ee0b12",
   "metadata": {
    "tags": []
   },
   "outputs": [
    {
     "name": "stdout",
     "output_type": "stream",
     "text": [
      "Number of items (file name entries): 366\n",
      "https://meps.ahrq.gov/data_stats/download_data_files_detail.jsp?cboPufNumber=HC-227\n",
      "https://meps.ahrq.gov/data_stats/download_data_files_detail.jsp?cboPufNumber=HC-226\n",
      "https://meps.ahrq.gov/data_stats/download_data_files_detail.jsp?cboPufNumber=HC-225\n",
      "https://meps.ahrq.gov/data_stats/download_data_files_detail.jsp?cboPufNumber=HC-224\n",
      "https://meps.ahrq.gov/data_stats/download_data_files_detail.jsp?cboPufNumber=HC-223\n"
     ]
    }
   ],
   "source": [
    "\n",
    "# Step 3: Constructing data file URLs (url1s) from the main website\n",
    "response = requests.get('https://meps.ahrq.gov/data_stats/download_data_files.jsp')\n",
    "soup = BeautifulSoup(response.text, \"html.parser\")\n",
    "comments = soup.find_all(string=lambda text: isinstance(text, Comment))\n",
    "for c in comments:\n",
    "    if '<select id=\"pufnumber\" size=1 name=\"cboPufNumber\">' in c:\n",
    "        options = extractOptions(c)\n",
    "        ops = options.splitlines() #split text into lines\n",
    "        f = open(r'C:\\Data\\MEPS_fn_x.txt', 'w')\n",
    "        filtered = []\n",
    "        unwanteds = ['IC Linked Data', 'CD-ROM', 'replaced', 'Population Characteristics']\n",
    "        for op in ops:\n",
    "            data = extractData(op)\n",
    "            if data.startswith(('MEPS HC', 'HC')) and not \\\n",
    "            any(item in data for item in unwanteds):\n",
    "                f.write(data +'\\n') \n",
    "                filtered.append(data)\n",
    "        f.close()   \n",
    "        file = open(r'C:\\Data\\MEPS_fn_x.txt')\n",
    "        lines = file.readlines() # Create a list of file name entries\n",
    "        file.close()\n",
    "        list_id = re.findall(r'\\bHC-\\w+\\b', str(lines))   #  Extract query string\n",
    "        st = \"https://meps.ahrq.gov/data_stats/download_data_files_detail.jsp?cboPufNumber=\"     \n",
    "        url1s = [st + x for x in list_id]  # Construct URLs (url1s)\n",
    "        print('Number of items (file name entries):', len(lines))\n",
    "        for url1 in url1s[:5]:   print(url1) # Display the first 5 data file urls               "
   ]
  },
  {
   "cell_type": "code",
   "execution_count": 4,
   "id": "bbd5fee3-9142-4522-a553-15b5cf1279ac",
   "metadata": {
    "tags": []
   },
   "outputs": [
    {
     "name": "stdout",
     "output_type": "stream",
     "text": [
      "Number of data file format-specific URLs (url2s): 1,071\n",
      "MEPS HC-227: 2021 Jobs File (format-specific URLs below)\n",
      "\n",
      "https://meps.ahrq.gov/data_files/pufs/h227/h227dat.zip\n",
      "\n",
      "https://meps.ahrq.gov/data_files/pufs/h227/h227ssp.zip\n",
      "\n",
      "https://meps.ahrq.gov/data_files/pufs/h227/h227v9.zip\n",
      "\n",
      "https://meps.ahrq.gov/data_files/pufs/h227/h227dta.zip\n",
      "\n",
      "https://meps.ahrq.gov/data_files/pufs/h227/h227xlsx.zip\n",
      "\n"
     ]
    }
   ],
   "source": [
    "# Step 4: Constructing data file format-specific URLs (url2s) from individual file websites\n",
    "\n",
    "with open(r'C:\\Data\\urls_rev_x.markdown', 'w') as f:\n",
    "    url2s = []\n",
    "    for url1 in url1s:\n",
    "        response = requests.get(url1)\n",
    "        soup = BeautifulSoup(response.text, \"html.parser\")\n",
    "        li = soup.find (class_ = \"OrangeBox\").text\n",
    "        print(li, '(format-specific URLs below)', file = f)\n",
    "        for link in soup.find_all('a'):\n",
    "            if link.text.endswith('ZIP'):\n",
    "                url2 = 'https://meps.ahrq.gov' + link.get('href').strip('..')\n",
    "                print(url2, file = f)\n",
    "                url2s.append(url2)\n",
    "f = open(r'C:\\Data\\urls_rev_x.markdown')\n",
    "fn_url2s = f.readlines()\n",
    "f.close()            \n",
    "print('Number of data file format-specific URLs (url2s):', f\"{len(url2s):,d}\")\n",
    "for item in fn_url2s[:6]:    print(item) # One data file name & 5 url2s\n"
   ]
  },
  {
   "cell_type": "code",
   "execution_count": 5,
   "id": "3a9df831-c6e6-412c-be19-8fba403a0144",
   "metadata": {},
   "outputs": [
    {
     "name": "stdout",
     "output_type": "stream",
     "text": [
      "url2s count_ErrorFound 0\n",
      "url2s count_200_ok 1071\n"
     ]
    }
   ],
   "source": [
    "count_ErrorFound = 0\n",
    "count_200_ok = 0\n",
    "for url2 in url2s:\n",
    "    response = requests.get(url2)\n",
    "    if response.status_code != 200:\n",
    "        count_ErrorFound +=1   \n",
    "    else:\n",
    "        count_200_ok +=1\n",
    "print(\"url2s count_ErrorFound\",count_ErrorFound)\n",
    "print(\"url2s count_200_ok\",count_200_ok)\n",
    "       "
   ]
  },
  {
   "cell_type": "code",
   "execution_count": null,
   "id": "9571b56f-4add-4f95-a63d-1f9a1b746c74",
   "metadata": {},
   "outputs": [],
   "source": []
  }
 ],
 "metadata": {
  "kernelspec": {
   "display_name": "Python 3 (ipykernel)",
   "language": "python",
   "name": "python3"
  },
  "language_info": {
   "codemirror_mode": {
    "name": "ipython",
    "version": 3
   },
   "file_extension": ".py",
   "mimetype": "text/x-python",
   "name": "python",
   "nbconvert_exporter": "python",
   "pygments_lexer": "ipython3",
   "version": "3.9.7"
  }
 },
 "nbformat": 4,
 "nbformat_minor": 5
}
