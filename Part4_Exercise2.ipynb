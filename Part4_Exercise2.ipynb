{
 "cells": [
  {
   "cell_type": "markdown",
   "metadata": {},
   "source": [
    "### Analyzing MEPS-HC Data with SAS® 9.4 M6 \n",
    "#### By Pradip K. Muhuri, PhD"
   ]
  },
  {
   "cell_type": "markdown",
   "metadata": {},
   "source": [
    "## Exercise 2"
   ]
  },
  {
   "cell_type": "markdown",
   "metadata": {},
   "source": [
    "### Objective\n",
    "* Estimate the following parameters\n",
    "    * mean number of purchases of opioids\n",
    "    (i.e., Narcotic analgesics or Narcotic    analgesic combos) \n",
    "    per person with one or more purchases of opioids\n",
    "\n",
    "    * mean total, out-of-pocket, and third-party payer expenses \n",
    "    for purchases of opioids per person with one or more purchases of opioids\n",
    "    \n",
    "### Data and Analysis\n",
    "    * Run PROC SUMMARY for prescribed medicined data aggregation\n",
    "    * Merge 2017 aggregated Prescribed Medicines File \n",
    "      with Full-Year Consolidated File for the same year\n",
    "        \n",
    "    * Run PROC FREQ for data checks\n",
    "    * Run PROC SURVEYMEANS for complex survey estimates\n"
   ]
  },
  {
   "cell_type": "markdown",
   "metadata": {},
   "source": [
    "### MEPS Prescribed Medicines File \n",
    "\n",
    "* Each record represents one household-reported prescribed medicine\n",
    "  that was  purchased during a given calendar year.\n",
    "  RXRECIDX LINKIDX TC1S1_1 RXXP17X RXSF17X\n",
    "* For this analysis, the variables include\n",
    "   * DUPERSID - PERSON ID (DUID + PID)\n",
    "   * DRUGIDX  - DRUG ID (DUPERSID + COUNTER)\n",
    "   * RXRECIDX - UNIQUE RX/PRESCRIBED MEDICINE IDENTIFIER\n",
    "   * LINKIDX  - ID FOR LINKAGE TO COND/OTH EVENT FILES\n",
    "   * TC1S1_1  - MULTUM THERAPEUT SUB-SUB-CLASS FOR TC1S1\n",
    "   * RXXP17X  - SUM OF PAYMENTS RXSF17X-RXOU17X(IMPUTED)\n",
    "   * RXSF17X  - AMOUNT PAID, SELF OR FAMILY (IMPUTED)\n",
    " \n",
    " [Read here for all varaiables in this data file.](https://meps.ahrq.gov/data_stats/download_data/pufs/h197a/h197adoc.pdf)\n",
    "  \n",
    "* The data included in the 2017 file were collected during\n",
    "    * the 2017 portion of Round 3, Rounds 4 and 5 for Panel 21\n",
    "    * Rounds 1, 2 and the 2017 portion of Round 3 for Panel 22\n"
   ]
  },
  {
   "cell_type": "markdown",
   "metadata": {},
   "source": [
    "##### Create a temporary analytic precribed medicine data file\n",
    "* Keep only selected variables\n",
    "* Subset observations for HERAPEUTIC CLASSIFICATION (TC) CODES FOR Narcotic analgesics or Narcotic analgesic combos "
   ]
  },
  {
   "cell_type": "code",
   "execution_count": null,
   "metadata": {},
   "outputs": [],
   "source": [
    "OPTIONS nodate nonumber;\n",
    "LIBNAME CDATA 'C:\\DATA';\n",
    "DATA WORK.DRUG;\n",
    "  SET CDATA.H197A (KEEP=DUPERSID RXRECIDX LINKIDX TC1S1_1 RXXP17X RXSF17X\n",
    "                   WHERE=(TC1S1_1 IN (60, 191))); \n",
    "RUN;"
   ]
  },
  {
   "cell_type": "code",
   "execution_count": null,
   "metadata": {},
   "outputs": [],
   "source": [
    "options nocenter nodate nonumber;\n",
    "TITLE \"A SAMPLE DUMP FOR PMED RECORDS WITH Narcotic analgesics or Narcotic analgesic combos, 2017\";\n",
    "PROC PRINT DATA=WORK.DRUG (OBS=30);\n",
    "VAR RXRECIDX LINKIDX TC1S1_1 RXXP17X RXSF17X;\n",
    " BY DUPERSID;\n",
    "RUN;\n"
   ]
  },
  {
   "cell_type": "markdown",
   "metadata": {},
   "source": [
    "##### Aggregate the prescribed medicine record-level data to the person-level to get SUM (total) of: \n",
    "  * RXXP17X values - SUM OF PAYMENTS RXSF17X-RXOU17X(IMPUTED)\n",
    "  * RXSF17X values - AMOUNT PAID, SELF OR FAMILY (IMPUTED)\n",
    "##### Show the listing of person-level observations\n",
    "  "
   ]
  },
  {
   "cell_type": "code",
   "execution_count": null,
   "metadata": {},
   "outputs": [],
   "source": [
    "options nocenter nodate nonumber;\n",
    "PROC SUMMARY DATA=WORK.DRUG NWAY;\n",
    "  CLASS DUPERSID;\n",
    "  VAR RXXP17X RXSF17X;\n",
    "  OUTPUT OUT=WORK.PERDRUG (DROP=_TYPE_) sum=TOT OOP;\n",
    "RUN;\n",
    "\n",
    "TITLE \"A SAMPLE DUMP FOR PERSON-LEVEL EXPENDITURES FOR Narcotic analgesics or Narcotic analgesic combos\";\n",
    "PROC PRINT DATA=PERDRUG (OBS=30);\n",
    "RUN;"
   ]
  },
  {
   "cell_type": "markdown",
   "metadata": {},
   "source": [
    "* Create a SAS data set from the person-level prescribed medicine data\n",
    "      * THIRD_PAYER = TOT - OOP  \n",
    "      (new variable -> third-party expenses for prescribed medicine)\n",
    "      \n",
    "      * Rename _FREQ_ as N_PHRCHASE (# OF PURCHASES PER PERSON)\n",
    " \n",
    " \n",
    "* Sort the data set"
   ]
  },
  {
   "cell_type": "code",
   "execution_count": null,
   "metadata": {},
   "outputs": [],
   "source": [
    "options nocenter nodate nonumber;\n",
    "ods html close;\n",
    "DATA WORK.PERDRUG2;\n",
    " SET PERDRUG  (RENAME=(_FREQ_ = N_PHRCHASE)) ; \n",
    " THIRD_PAYER   = TOT - OOP; \n",
    " RUN;\n",
    "PROC SORT DATA=WORK.PERDRUG2; BY DUPERSID; RUN;\n",
    "\n",
    "\n"
   ]
  },
  {
   "cell_type": "markdown",
   "metadata": {},
   "source": [
    "\n",
    "* Sort the full-year consolidated file by keeping only selected variables"
   ]
  },
  {
   "cell_type": "code",
   "execution_count": null,
   "metadata": {},
   "outputs": [],
   "source": [
    "PROC SORT DATA=CDATA.H201 (KEEP=DUPERSID VARSTR VARPSU PERWT17F) OUT=WORK.H201;\n",
    "BY DUPERSID; RUN;"
   ]
  },
  {
   "cell_type": "markdown",
   "metadata": {},
   "source": [
    "#### Merge two person-level files"
   ]
  },
  {
   "cell_type": "code",
   "execution_count": null,
   "metadata": {},
   "outputs": [],
   "source": [
    "DATA  WORK.FY;\n",
    "MERGE WORK.H201 (IN=AA) \n",
    "      WORK.PERDRUG2  (IN=BB KEEP=DUPERSID N_PHRCHASE TOT OOP THIRD_PAYER);\n",
    "   BY DUPERSID;\n",
    "   IF AA AND BB THEN SUBPOP = 1; /*PERSONS WITH 1+ Narcotic analgesics or Narcotic analgesic combos */\n",
    "   ELSE IF AA NE BB THEN DO;   \n",
    "         SUBPOP         = 2 ;  /*PERSONS WITHOUT ANY PURCHASE OF Narcotic analgesics or Narcotic analgesic combos*/\n",
    "         N_PHRCHASE  = 0 ;  /*# OF PURCHASES PER PERSON */\n",
    "         THIRD_PAYER = 0 ;\n",
    "         TOT         = 0 ;\n",
    "         OOP         = 0 ;\n",
    "    END;\n",
    "    IF AA; \n",
    "    LABEL   TOT = 'TOTAL EXPENSES FOR NACROTIC ETC'\n",
    "            OOP = 'OUT-OF-POCKET EXPENSES'\n",
    "            THIRD_PAYER = 'TOTAL EXPENSES MINUS OUT-OF-POCKET EXPENSES'\n",
    "            N_PHRCHASE  = '# OF PURCHASES PER PERSON';\n",
    "RUN;"
   ]
  },
  {
   "cell_type": "markdown",
   "metadata": {},
   "source": [
    "##### Delete all temporary SAS data sets from the WORK library."
   ]
  },
  {
   "cell_type": "code",
   "execution_count": null,
   "metadata": {},
   "outputs": [],
   "source": [
    "title;\n",
    "proc datasets lib=work nolist kill;\n",
    "quit; "
   ]
  },
  {
   "cell_type": "markdown",
   "metadata": {},
   "source": [
    "Here is an atternative SAS program that deletes temporary SAS data sets specified\n",
    "in the DELETE statement below.\n",
    "```\n",
    "PROC DATASETS LIBRARY=WORK nolist; \n",
    " DELETE DRUG PERDRUG2 H201; \n",
    "RUN;\n",
    "QUIT;\n",
    "```"
   ]
  },
  {
   "cell_type": "markdown",
   "metadata": {},
   "source": [
    "#### Code snippet for PROC FORMAT"
   ]
  },
  {
   "cell_type": "code",
   "execution_count": null,
   "metadata": {},
   "outputs": [],
   "source": [
    "options nocenter nodate nonumber nosource notes;\n",
    "ods html close;\n",
    "PROC FORMAT;\n",
    "  VALUE GTZERO\n",
    "     0         = '0'\n",
    "     0 <- HIGH = '>0' ;\n",
    "  VALUE SUBPOP    \n",
    "     1 = 'PERSONS WITH 1+ Narcotic etc'\n",
    "     2 = 'OTHERS';\n",
    "RUN;"
   ]
  },
  {
   "cell_type": "markdown",
   "metadata": {},
   "source": [
    "#### PROC FREQ for data-checks"
   ]
  },
  {
   "cell_type": "code",
   "execution_count": null,
   "metadata": {},
   "outputs": [],
   "source": [
    "PROC FREQ DATA=WORK.FY;\n",
    "  TABLES  SUBPOP * N_PHRCHASE * TOT * OOP * THIRD_PAYER / LIST NOPERCENT  MISSING ;\n",
    "  FORMAT SUBPOP SUBPOP. N_PHRCHASE TOT OOP THIRD_PAYER gtzero. ;\n",
    "RUN;"
   ]
  },
  {
   "cell_type": "markdown",
   "metadata": {},
   "source": [
    "#### Run PROC SURVEYMEANS and generate  complex survey estimates for the following:\n",
    "\n",
    "* mean number of purchases of opioids\n",
    "    (i.e., Narcotic analgesics or Narcotic analgesic combos) \n",
    "    per person with one or more purchases of opioids\n",
    "\n",
    "* mean total, out-of-pocket, and third-party payer expenses \n",
    "    for purchases of opioids per person with one or more purchases of opioids\n",
    "    \n"
   ]
  },
  {
   "cell_type": "code",
   "execution_count": null,
   "metadata": {},
   "outputs": [],
   "source": [
    "options nocenter;\n",
    "ods graphics off; /*Suppress the graphics */\n",
    "ods exclude Statistics /* Not to generate output for the overall population */\n",
    "TITLE \"PERSON-LEVEL ESTIMATES ON EXPENDITURES AND USE FOR NARCOTIC ANALGESICS or NARCOTIC COMBOS, 2017\";\n",
    "PROC SURVEYMEANS DATA=WORK.FY NOBS SUMWGT SUM MEAN STDERR SUM;\n",
    "  VAR N_PHRCHASE TOT OOP THIRD_PAYER ;\n",
    "  STRATA  VARSTR ;\n",
    "  CLUSTER VARPSU;\n",
    "  WEIGHT  PERWT17F;\n",
    "  DOMAIN  SUBPOP(\"PERSONS WITH 1+ Narcotic etc\");\n",
    "  FORMAT SUBPOP SUBPOP.;\n",
    " RUN;"
   ]
  }
 ],
 "metadata": {
  "kernelspec": {
   "display_name": "SAS",
   "language": "sas",
   "name": "sas"
  },
  "language_info": {
   "codemirror_mode": "sas",
   "file_extension": ".sas",
   "mimetype": "text/x-sas",
   "name": "sas"
  }
 },
 "nbformat": 4,
 "nbformat_minor": 4
}
